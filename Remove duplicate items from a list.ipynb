{
  "nbformat": 4,
  "nbformat_minor": 0,
  "metadata": {
    "colab": {
      "name": "Untitled0.ipynb",
      "provenance": []
    },
    "kernelspec": {
      "name": "python3",
      "display_name": "Python 3"
    },
    "language_info": {
      "name": "python"
    }
  },
  "cells": [
    {
      "cell_type": "markdown",
      "metadata": {
        "id": "Plb-asVBNULU"
      },
      "source": [
        "# Remove duplicate items from a list\n"
      ]
    },
    {
      "cell_type": "code",
      "metadata": {
        "colab": {
          "base_uri": "https://localhost:8080/"
        },
        "id": "eevvQg7yF3Vx",
        "outputId": "f3af082d-5da3-4d45-d329-dd8e760d3e42"
      },
      "source": [
        "l=[1,2,3,3,4,5,6,6,7,8]\n",
        "\n",
        "Non_duplicate=list(set(l)) #set will remove duplicate elements in the list\n",
        "print(Non_duplicate)"
      ],
      "execution_count": 5,
      "outputs": [
        {
          "output_type": "stream",
          "name": "stdout",
          "text": [
            "[1, 2, 3, 4, 5, 6, 7, 8]\n"
          ]
        }
      ]
    },
    {
      "cell_type": "code",
      "metadata": {
        "colab": {
          "base_uri": "https://localhost:8080/"
        },
        "id": "J3suFKX7Gfqb",
        "outputId": "7a8c1bff-4964-48da-8d42-df9a57d4d9ba"
      },
      "source": [
        "l=[]\n",
        "ran=int(input(\"Enter the no.of.elements to be inserted :\"))\n",
        "print(\"Enter elements. Duplicate elements will be removed :\")\n",
        "for i in range(ran):\n",
        "  num=int(input())\n",
        "  l.append(num)\n",
        "  \n",
        "print(\"Original list: \",l)\n",
        "Non_duplicate=list(set(l)) #set will remove duplicate elements in the list\n",
        "print(\"List without duplicate elements :\",Non_duplicate)  \n"
      ],
      "execution_count": 7,
      "outputs": [
        {
          "output_type": "stream",
          "name": "stdout",
          "text": [
            "Enter the no.of.elements to be inserted :6\n",
            "Enter elements. Duplicate elements will be removed :\n",
            "3\n",
            "45\n",
            "6\n",
            "3\n",
            "65\n",
            "9\n",
            "Original list:  [3, 45, 6, 3, 65, 9]\n",
            "List without duplicate elements : [65, 3, 6, 9, 45]\n"
          ]
        }
      ]
    },
    {
      "cell_type": "code",
      "metadata": {
        "colab": {
          "base_uri": "https://localhost:8080/"
        },
        "id": "mfQ8TRGyfvvy",
        "outputId": "98f0edcf-1e7b-4a75-e1de-863535a32559"
      },
      "source": [
        "l=[1,2,3,3,4,5,6,6,7,8]\n",
        "Non_duplicate=[]        # to store non duplicate elements\n",
        "for i in l:\n",
        "  if i not in Non_duplicate:  #checks if elements in l is present in Non_duplicate\n",
        "    Non_duplicate.append(i)   \n",
        "print(Non_duplicate)"
      ],
      "execution_count": 8,
      "outputs": [
        {
          "output_type": "stream",
          "name": "stdout",
          "text": [
            "[1, 2, 3, 4, 5, 6, 7, 8]\n"
          ]
        }
      ]
    }
  ]
}