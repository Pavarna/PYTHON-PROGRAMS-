{
  "nbformat": 4,
  "nbformat_minor": 0,
  "metadata": {
    "colab": {
      "name": "Untitled0.ipynb",
      "provenance": []
    },
    "kernelspec": {
      "name": "python3",
      "display_name": "Python 3"
    },
    "language_info": {
      "name": "python"
    }
  },
  "cells": [
    {
      "cell_type": "markdown",
      "metadata": {
        "id": "j6ogcFZ2X_cz"
      },
      "source": [
        "# Even or Odd numbers"
      ]
    },
    {
      "cell_type": "code",
      "metadata": {
        "colab": {
          "base_uri": "https://localhost:8080/"
        },
        "id": "TS85g5CXbDMt",
        "outputId": "6065d4a7-ccaf-4b65-83be-368ebb5686d1"
      },
      "source": [
        "#Method 1\n",
        "numbers=[12,76,93,100,65,23]\n",
        "\n",
        "even=[n for n in numbers if n%2 ==0]\n",
        "odd=[n for n in numbers if n%2 != 0]\n",
        "print(\"Even numbers are :\",even)\n",
        "print(\"Odd numbers are :\",odd)"
      ],
      "execution_count": 23,
      "outputs": [
        {
          "output_type": "stream",
          "name": "stdout",
          "text": [
            "Even numbers are : [12, 76, 100]\n",
            "Odd numbers are : [93, 65, 23]\n"
          ]
        }
      ]
    },
    {
      "cell_type": "code",
      "metadata": {
        "colab": {
          "base_uri": "https://localhost:8080/"
        },
        "id": "LAsEX6Sibaf1",
        "outputId": "8791f212-6b65-4f53-bca4-23f03fe9fe4f"
      },
      "source": [
        "#Method 2\n",
        "\n",
        "def even_odd(n):\n",
        "  if n%2==0:\n",
        "    print(n,\" is an even number\")\n",
        "  elif n%2!=0:\n",
        "    print(n,\" is a odd number\")\n",
        "\n",
        "num=int(input(\"Enter the number\"))\n",
        "even_odd(num)"
      ],
      "execution_count": 25,
      "outputs": [
        {
          "output_type": "stream",
          "name": "stdout",
          "text": [
            "Enter the number43\n",
            "43  is a odd number\n"
          ]
        }
      ]
    },
    {
      "cell_type": "code",
      "metadata": {
        "colab": {
          "base_uri": "https://localhost:8080/"
        },
        "id": "62OW5h3Db2pZ",
        "outputId": "5c7d68d1-4baa-4b3b-c06e-5638a17bc03f"
      },
      "source": [
        "#Method 3\n",
        "\n",
        "lis= list( map( int, input().split() ) )\n",
        "for n in lis:\n",
        "  if n%2==0:\n",
        "    print(n,\" is an even number\")\n",
        "  elif n%2!=0:\n",
        "    print(n,\" is a odd number\")"
      ],
      "execution_count": 30,
      "outputs": [
        {
          "output_type": "stream",
          "name": "stdout",
          "text": [
            "8 7 2 3 1\n",
            "8  is an even number\n",
            "7  is a odd number\n",
            "2  is an even number\n",
            "3  is a odd number\n",
            "1  is a odd number\n"
          ]
        }
      ]
    }
  ]
}