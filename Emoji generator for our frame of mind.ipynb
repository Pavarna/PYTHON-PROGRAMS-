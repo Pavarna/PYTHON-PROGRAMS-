{
  "nbformat": 4,
  "nbformat_minor": 0,
  "metadata": {
    "colab": {
      "name": "Untitled0.ipynb",
      "provenance": []
    },
    "kernelspec": {
      "name": "python3",
      "display_name": "Python 3"
    },
    "language_info": {
      "name": "python"
    }
  },
  "cells": [
    {
      "cell_type": "markdown",
      "metadata": {
        "id": "Plb-asVBNULU"
      },
      "source": [
        "# Generates emoji based on our frame of mind\n",
        "\n"
      ]
    },
    {
      "cell_type": "code",
      "metadata": {
        "colab": {
          "base_uri": "https://localhost:8080/"
        },
        "id": "mfQ8TRGyfvvy",
        "outputId": "e4178969-3bb2-4952-a444-0de107173a73"
      },
      "source": [
        "print(\"*** Type your frame of mind to print emoji ***\")\n",
        "print(\"Happy, Romance, Hug, Sleepy, Mask, Angry, Nap, Shock, Brilliant, Frustrated, Blessed, Sad\\n\")\n",
        "feel=input(\"How you feel today?\")\n",
        "if feel=='Happy':\n",
        "  print(\"\\U0001F600\") \n",
        "elif feel=='Romance':\n",
        "  print(\"\\U0001F618\")\n",
        "elif feel=='Hug':\n",
        "  print(\"\\U0001F917\")\n",
        "elif feel=='Sleepy':\n",
        "  print(\"\\U0001F62A\")\n",
        "elif feel=='Mask':\n",
        "  print(\"\\U0001F637\")\n",
        "elif feel=='Angry':\n",
        "  print(\"\\U0001F621\")\n",
        "elif feel=='Nap':\n",
        "  print(\"\\U0001F634\")\n",
        "elif feel=='Shock':\n",
        "  print(\"\\U0001F626\")\n",
        "elif feel=='Brilliant':\n",
        "  print(\"\\U0001F913\")\n",
        "elif feel=='Frustrated':\n",
        "  print(\"\\U0001F616\")\n",
        "elif feel=='Blessed':\n",
        "  print(\"\\U0001F607\")\n",
        "elif feel=='Sad':\n",
        "  print(\"\\U0001F622\")\n",
        "else:\n",
        "  print(\"Select frame of mind from options given above.\")"
      ],
      "execution_count": 10,
      "outputs": [
        {
          "output_type": "stream",
          "name": "stdout",
          "text": [
            "*** Type your frame of mind to print emoji ***\n",
            "Happy, Romance, Hug, Sleepy, Mask, Angry, Nap, Shock, Brilliant, Frustrated, Blessed, Sad\n",
            "\n",
            "How you feel today?Blessed\n",
            "😇\n"
          ]
        }
      ]
    },
    {
      "cell_type": "code",
      "metadata": {
        "colab": {
          "base_uri": "https://localhost:8080/"
        },
        "id": "qumAso3fsfjw",
        "outputId": "358b0ac3-93fe-4c35-c42e-2396c251bf50"
      },
      "source": [
        "print(\"*** Type your frame of mind to print emoji ***\")\n",
        "print(\"Happy, Romance, Hug, Sleepy, Mask, Angry, Nap, Shock, Brilliant, Frustrated, Blessed, Sad\\n\")\n",
        "feel=input(\"How you feel today?\")\n",
        "if feel=='Happy':\n",
        "  print(\"\\U0001F600\") \n",
        "elif feel=='Romance':\n",
        "  print(\"\\U0001F618\")\n",
        "elif feel=='Hug':\n",
        "  print(\"\\U0001F917\")\n",
        "elif feel=='Sleepy':\n",
        "  print(\"\\U0001F62A\")\n",
        "elif feel=='Mask':\n",
        "  print(\"\\U0001F637\")\n",
        "elif feel=='Angry':\n",
        "  print(\"\\U0001F621\")\n",
        "elif feel=='Nap':\n",
        "  print(\"\\U0001F634\")\n",
        "elif feel=='Shock':\n",
        "  print(\"\\U0001F626\")\n",
        "elif feel=='Brilliant':\n",
        "  print(\"\\U0001F913\")\n",
        "elif feel=='Frustrated':\n",
        "  print(\"\\U0001F616\")\n",
        "elif feel=='Blessed':\n",
        "  print(\"\\U0001F607\")\n",
        "elif feel=='Sad':\n",
        "  print(\"\\U0001F622\")\n",
        "else:\n",
        "  print(\"Select frame of mind from options given above.\")"
      ],
      "execution_count": 11,
      "outputs": [
        {
          "output_type": "stream",
          "name": "stdout",
          "text": [
            "*** Type your frame of mind to print emoji ***\n",
            "Happy, Romance, Hug, Sleepy, Mask, Angry, Nap, Shock, Brilliant, Frustrated, Blessed, Sad\n",
            "\n",
            "How you feel today?nothing\n",
            "Select frame of mind from options given above.\n"
          ]
        }
      ]
    }
  ]
}