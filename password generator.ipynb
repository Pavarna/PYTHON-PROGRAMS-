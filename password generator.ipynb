{
  "nbformat": 4,
  "nbformat_minor": 0,
  "metadata": {
    "colab": {
      "name": "Untitled0.ipynb",
      "provenance": []
    },
    "kernelspec": {
      "name": "python3",
      "display_name": "Python 3"
    },
    "language_info": {
      "name": "python"
    }
  },
  "cells": [
    {
      "cell_type": "markdown",
      "metadata": {
        "id": "Plb-asVBNULU"
      },
      "source": [
        "# Random password generator\n",
        "1. creates password as per the desired length\n",
        "2. Uses random and string built in modules\n",
        "3. password will be a combination of small letters, captial letters, special characters and digits\n"
      ]
    },
    {
      "cell_type": "code",
      "metadata": {
        "colab": {
          "base_uri": "https://localhost:8080/"
        },
        "id": "5Jit88mxjWfo",
        "outputId": "c5fac08c-79b3-4041-9b7d-5ef95aa09356"
      },
      "source": [
        "import random,string\n",
        "pass_len=int(input(\"Enter the length of thea password  :\"))\n",
        "pass_char=string.ascii_letters+string.digits+string.punctuation  #using built in module assign char to pass_char\n",
        "\n",
        "password=[]\n",
        "for x in range(pass_len):\n",
        "  password.append(random.choice(pass_char)) #until the length entered by user is satisfied, it will append elements.\n",
        "\n",
        "print(\"\".join(password)) #removing spaces in a list"
      ],
      "execution_count": 47,
      "outputs": [
        {
          "output_type": "stream",
          "name": "stdout",
          "text": [
            "Enter the length of thea password  :8\n",
            ":rROK3o]\n"
          ]
        }
      ]
    },
    {
      "cell_type": "code",
      "metadata": {
        "colab": {
          "base_uri": "https://localhost:8080/"
        },
        "id": "HMEueNuGqOk-",
        "outputId": "deda3fcf-12df-4897-a6ae-59ecb1af0291"
      },
      "source": [
        "#tips and hints for manual program\n",
        "import random\n",
        "\n",
        "pass_digits=[d for d in range(0,10)]\n",
        "print(pass_digits)\n",
        "\n",
        "pass_spl=['!','@','#','$','%','&','*']\n",
        "print(pass_spl)\n",
        "\n",
        "pass_cap=[chr(c) for c in range(65,91)]\n",
        "print(pass_cap)\n",
        "\n",
        "pass_small=[chr(s) for s in range(97,123)]\n",
        "print(pass_small)\n",
        "\n",
        "#TO PRINT RANDOM ELEMENTS FROM LIST\n",
        "print(random.choices(pass_digits))\n",
        "print(random.choices(pass_cap))\n",
        "print(random.choices(pass_small))\n",
        "print(random.choices(pass_spl))"
      ],
      "execution_count": 48,
      "outputs": [
        {
          "output_type": "stream",
          "name": "stdout",
          "text": [
            "[0, 1, 2, 3, 4, 5, 6, 7, 8, 9]\n",
            "['!', '@', '#', '$', '%', '&', '*']\n",
            "['A', 'B', 'C', 'D', 'E', 'F', 'G', 'H', 'I', 'J', 'K', 'L', 'M', 'N', 'O', 'P', 'Q', 'R', 'S', 'T', 'U', 'V', 'W', 'X', 'Y', 'Z']\n",
            "['a', 'b', 'c', 'd', 'e', 'f', 'g', 'h', 'i', 'j', 'k', 'l', 'm', 'n', 'o', 'p', 'q', 'r', 's', 't', 'u', 'v', 'w', 'x', 'y', 'z']\n",
            "[3]\n",
            "['W']\n",
            "['a']\n",
            "['#']\n"
          ]
        }
      ]
    },
    {
      "cell_type": "code",
      "metadata": {
        "colab": {
          "base_uri": "https://localhost:8080/"
        },
        "id": "94nWNBHblmtB",
        "outputId": "4c3ac84d-758d-45cf-e4b1-97cc4eab2ef1"
      },
      "source": [
        "import random,string\n",
        "pass_len=int(input(\"Enter the length of thea password  :\"))\n",
        "pass_char=string.ascii_lowercase+string.digits+string.punctuation+string.ascii_uppercase  #using built in module assign char to pass_char\n",
        "\n",
        "password=[]\n",
        "for x in range(pass_len):\n",
        "  password.append(random.choice(pass_char))\n",
        "print(\"\".join(password)) #removing spaces in a list"
      ],
      "execution_count": 8,
      "outputs": [
        {
          "output_type": "stream",
          "name": "stdout",
          "text": [
            "Enter the length of thea password  :9\n",
            "ag6D(hvHO\n"
          ]
        }
      ]
    }
  ]
}