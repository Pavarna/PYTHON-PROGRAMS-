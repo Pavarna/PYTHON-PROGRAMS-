{
  "nbformat": 4,
  "nbformat_minor": 0,
  "metadata": {
    "colab": {
      "name": "Untitled0.ipynb",
      "provenance": []
    },
    "kernelspec": {
      "name": "python3",
      "display_name": "Python 3"
    },
    "language_info": {
      "name": "python"
    }
  },
  "cells": [
    {
      "cell_type": "markdown",
      "metadata": {
        "id": "Plb-asVBNULU"
      },
      "source": [
        "# Recursive function - 4 examples\n",
        "1.Fibonnaci\n",
        "\n",
        "2.Countdown\n",
        "\n",
        "3.Factorial\n",
        "\n",
        "4.Sum"
      ]
    },
    {
      "cell_type": "markdown",
      "metadata": {
        "id": "j6ogcFZ2X_cz"
      },
      "source": [
        "# **1. Fibonnaci**"
      ]
    },
    {
      "cell_type": "code",
      "metadata": {
        "colab": {
          "base_uri": "https://localhost:8080/"
        },
        "id": "prJEXWWuYCtu",
        "outputId": "f67fcb2b-75de-4a0f-957c-b62198cc49cd"
      },
      "source": [
        "def rec_fi(n):\n",
        "  if n<=1:\n",
        "    return n\n",
        "  else:\n",
        "    return (rec_fi(n-1)+rec_fi(n-2))\n",
        "    \n",
        "print(\"***Fibonacci series***\")\n",
        "num=int(input(\"Enter the number: \"))\n",
        "\n",
        "for i in range(num):\n",
        "  print(rec_fi(i))"
      ],
      "execution_count": 18,
      "outputs": [
        {
          "output_type": "stream",
          "name": "stdout",
          "text": [
            "***Fibonacci series***\n",
            "Enter the number: 6\n",
            "0\n",
            "1\n",
            "1\n",
            "2\n",
            "3\n",
            "5\n"
          ]
        }
      ]
    },
    {
      "cell_type": "markdown",
      "metadata": {
        "id": "VFSO44jbZALi"
      },
      "source": [
        "# **2.Countdown**"
      ]
    },
    {
      "cell_type": "code",
      "metadata": {
        "colab": {
          "base_uri": "https://localhost:8080/"
        },
        "id": "6BKeL56mZGIQ",
        "outputId": "2aec292f-3b73-40cc-a730-8e866b503edc"
      },
      "source": [
        "def count(n):\n",
        "  print(n)\n",
        "  if n==0:\n",
        "    return n\n",
        "  else:\n",
        "    count(n-1)\n",
        "\n",
        "print(\"***Countdown***\")\n",
        "num=int(input(\"Enter the number: \"))\n",
        "count(num)"
      ],
      "execution_count": 19,
      "outputs": [
        {
          "output_type": "stream",
          "name": "stdout",
          "text": [
            "***Countdown***\n",
            "Enter the number: 10\n",
            "10\n",
            "9\n",
            "8\n",
            "7\n",
            "6\n",
            "5\n",
            "4\n",
            "3\n",
            "2\n",
            "1\n",
            "0\n"
          ]
        }
      ]
    },
    {
      "cell_type": "markdown",
      "metadata": {
        "id": "0EwjE0xBZkhz"
      },
      "source": [
        "# **3. Factorial**"
      ]
    },
    {
      "cell_type": "code",
      "metadata": {
        "colab": {
          "base_uri": "https://localhost:8080/"
        },
        "id": "O-gr2lbYZpdd",
        "outputId": "faf171dd-0485-44fd-caa6-efe85408f125"
      },
      "source": [
        "def fac(n):\n",
        "  if n==1:\n",
        "    return 1\n",
        "  else:\n",
        "    return (n*fac(n-1))\n",
        "\n",
        "print(\"***Factorial***\")\n",
        "num=int(input(\"Enter the number: \"))\n",
        "print(fac(num))\n",
        "  "
      ],
      "execution_count": 20,
      "outputs": [
        {
          "output_type": "stream",
          "name": "stdout",
          "text": [
            "***Factorial***\n",
            "Enter the number: 7\n",
            "5040\n"
          ]
        }
      ]
    },
    {
      "cell_type": "markdown",
      "metadata": {
        "id": "h_lNtTh9aBoL"
      },
      "source": [
        "# **4. Sum upto a range**"
      ]
    },
    {
      "cell_type": "code",
      "metadata": {
        "colab": {
          "base_uri": "https://localhost:8080/"
        },
        "id": "BasfcEa-aHEf",
        "outputId": "47b30fc0-c791-4520-a3dd-39a745a5a61d"
      },
      "source": [
        "def sum(n):\n",
        "  tot=0\n",
        "  for i in range(n+1):\n",
        "    tot +=i\n",
        "  return tot\n",
        "\n",
        "print(\"***Sum upto the range***\")\n",
        "num=int(input(\"Enter the number: \"))\n",
        "print(sum(num))"
      ],
      "execution_count": 21,
      "outputs": [
        {
          "output_type": "stream",
          "name": "stdout",
          "text": [
            "***Sum upto the range***\n",
            "Enter the number: 50\n",
            "1275\n"
          ]
        }
      ]
    }
  ]
}