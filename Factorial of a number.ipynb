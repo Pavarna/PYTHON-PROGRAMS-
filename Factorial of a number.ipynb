{
  "nbformat": 4,
  "nbformat_minor": 0,
  "metadata": {
    "colab": {
      "name": "Untitled0.ipynb",
      "provenance": []
    },
    "kernelspec": {
      "name": "python3",
      "display_name": "Python 3"
    },
    "language_info": {
      "name": "python"
    }
  },
  "cells": [
    {
      "cell_type": "markdown",
      "metadata": {
        "id": "Plb-asVBNULU"
      },
      "source": [
        "# To find factorial \n"
      ]
    },
    {
      "cell_type": "code",
      "metadata": {
        "colab": {
          "base_uri": "https://localhost:8080/"
        },
        "id": "mfQ8TRGyfvvy",
        "outputId": "9319aabb-35d0-4293-adbd-8d13d632687d"
      },
      "source": [
        "num=int(input(\"Enter any number :\"))\n",
        "fact=1\n",
        "if num<0:\n",
        "  print(\"Factorial doesn't exist for negative numbers\")\n",
        "elif num==0:\n",
        "  print(\"Factorial of \",num,\" is : 1\")\n",
        "else:\n",
        "  for i in range(1,num+1):\n",
        "    fact= fact*i\n",
        "  print(\"Factorial of \",num,\"is :\",fact)"
      ],
      "execution_count": 33,
      "outputs": [
        {
          "output_type": "stream",
          "name": "stdout",
          "text": [
            "Enter any number :0\n",
            "Factorial of  0  is : 1\n"
          ]
        }
      ]
    },
    {
      "cell_type": "code",
      "metadata": {
        "colab": {
          "base_uri": "https://localhost:8080/"
        },
        "id": "_bLRC-0XSZP3",
        "outputId": "a430ee20-9b22-4073-96f4-8e2b1458a841"
      },
      "source": [
        "def factorial(num):\n",
        "  fact=1\n",
        "  for i in range(1,num+1):\n",
        "    fact= fact*i\n",
        "  return fact\n",
        "\n",
        "num=int(input(\"Enter any number :\"))\n",
        "if num<0:\n",
        "  print(\"Factorial doesn't exist for negative numbers\")\n",
        "elif num==0:\n",
        "  print(\"Factorial of \",num,\" is : 1\")\n",
        "else:\n",
        "  print(\"Factorial of \",num,\" is : \",factorial(num))\n",
        "  "
      ],
      "execution_count": 32,
      "outputs": [
        {
          "output_type": "stream",
          "name": "stdout",
          "text": [
            "Enter any number :5\n",
            "Factorial of  5  is :  120\n"
          ]
        }
      ]
    }
  ]
}