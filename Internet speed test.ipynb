{
  "nbformat": 4,
  "nbformat_minor": 0,
  "metadata": {
    "colab": {
      "name": "Untitled0.ipynb",
      "provenance": []
    },
    "kernelspec": {
      "name": "python3",
      "display_name": "Python 3"
    },
    "language_info": {
      "name": "python"
    }
  },
  "cells": [
    {
      "cell_type": "markdown",
      "metadata": {
        "id": "Plb-asVBNULU"
      },
      "source": [
        "# Internet speed test\n",
        "\n"
      ]
    },
    {
      "cell_type": "code",
      "metadata": {
        "colab": {
          "base_uri": "https://localhost:8080/"
        },
        "id": "4gwuM8T4PLnt",
        "outputId": "343f813c-03a5-4897-ff34-56367d52ac66"
      },
      "source": [
        "pip install speedtest-cli     #Required to use Speedtest module. Install to run the module"
      ],
      "execution_count": 8,
      "outputs": [
        {
          "output_type": "stream",
          "name": "stdout",
          "text": [
            "Requirement already satisfied: speedtest-cli in /usr/local/lib/python3.7/dist-packages (2.1.3)\n"
          ]
        }
      ]
    },
    {
      "cell_type": "code",
      "metadata": {
        "id": "WCI8a8yjwH1g",
        "colab": {
          "base_uri": "https://localhost:8080/"
        },
        "outputId": "2852687f-15fa-48c5-8173-a7ce31707544"
      },
      "source": [
        "from speedtest import Speedtest\n",
        "st=Speedtest()\n",
        "print(\"*** Internet connection speed ***\")\n",
        "print(\"Download speed :\",st.download())\n",
        "print(\"Upload speed :\",st.upload())"
      ],
      "execution_count": 9,
      "outputs": [
        {
          "output_type": "stream",
          "name": "stdout",
          "text": [
            "*** Internet connection speed ***\n",
            "Download speed : 808978622.5808725\n",
            "Upload speed : 365205913.09079164\n"
          ]
        }
      ]
    }
  ]
}