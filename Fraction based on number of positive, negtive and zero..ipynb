{
  "nbformat": 4,
  "nbformat_minor": 0,
  "metadata": {
    "colab": {
      "name": "Untitled0.ipynb",
      "provenance": []
    },
    "kernelspec": {
      "name": "python3",
      "display_name": "Python 3"
    },
    "language_info": {
      "name": "python"
    }
  },
  "cells": [
    {
      "cell_type": "markdown",
      "metadata": {
        "id": "j6ogcFZ2X_cz"
      },
      "source": [
        "#Fraction based on number of positive, negtive and zero.\n",
        "\n",
        "Given an array of integers, calculate the ratios of its elements that are positive, negative, and zero. Print the decimal value of each fraction on a new line with 6 places after the decimal."
      ]
    },
    {
      "cell_type": "code",
      "metadata": {
        "colab": {
          "base_uri": "https://localhost:8080/"
        },
        "id": "W9crZJW6zuLc",
        "outputId": "1d5fc0cd-d089-4088-f600-98a794a819d1"
      },
      "source": [
        "def frac(arr):\n",
        "    # Write your code here\n",
        "    a=arr\n",
        "    apos=[]\n",
        "    aneg=[]\n",
        "    azero=[]\n",
        "    le=len(a)\n",
        "    for i in range(len(a)):\n",
        "        if(a[i]>0):\n",
        "            apos.append(a[i])\n",
        "        elif(a[i]<0):\n",
        "            aneg.append(a[i])\n",
        "        elif(a[i]==0):\n",
        "            azero.append(a[i])\n",
        "    print(\"Positive number is a list :\",apos)\n",
        "    print(\"Negative number is a list :\",aneg)\n",
        "    print(\"Zero is a list :\",azero)\n",
        "\n",
        "    print(\"\\nCount of postive numbers :\",len(apos))\n",
        "    print(\"Count of negative numbers :\",len(aneg))\n",
        "    print(\"Count of zeroes :\",len(azero))\n",
        "    ap=(len(apos))/le\n",
        "    an=(len(aneg))/le\n",
        "    az=(len(azero))/le\n",
        "  \n",
        "    print('{:.6}'.format(ap))\n",
        "    print('{:.6}'.format(an))\n",
        "    print('{:.6}'.format(az))\n",
        "           \n",
        "lst=[1,2,3,-8,-2,-4,1,0]\n",
        "frac(lst)"
      ],
      "execution_count": 8,
      "outputs": [
        {
          "output_type": "stream",
          "name": "stdout",
          "text": [
            "Positive number is a list : [1, 2, 3, 1]\n",
            "Negative number is a list : [-8, -2, -4]\n",
            "Zero is a list : [0]\n",
            "\n",
            "Count of postive numbers : 4\n",
            "Count of negative numbers : 3\n",
            "Count of zeroes : 1\n",
            "0.5\n",
            "0.375\n",
            "0.125\n"
          ]
        }
      ]
    }
  ]
}