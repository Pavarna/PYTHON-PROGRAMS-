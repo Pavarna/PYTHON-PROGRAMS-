{
  "nbformat": 4,
  "nbformat_minor": 0,
  "metadata": {
    "colab": {
      "name": "Untitled2.ipynb",
      "provenance": []
    },
    "kernelspec": {
      "name": "python3",
      "display_name": "Python 3"
    },
    "language_info": {
      "name": "python"
    }
  },
  "cells": [
    {
      "cell_type": "markdown",
      "metadata": {
        "id": "IrL3RHFX27s-"
      },
      "source": [
        "**Given two strings consisting of digits 0 and 1 only, find the XOR of the two strings.**\n",
        "\n",
        "A\tB   O/P\n",
        "\n",
        "0\t0 = 0\n",
        "\n",
        "0\t1\t= 1\n",
        "\n",
        "1\t0\t= 1\n",
        "\n",
        "1\t1\t= 0"
      ]
    },
    {
      "cell_type": "markdown",
      "metadata": {
        "id": "mQsBZxfy3PSf"
      },
      "source": [
        "Method 1"
      ]
    },
    {
      "cell_type": "code",
      "metadata": {
        "colab": {
          "base_uri": "https://localhost:8080/"
        },
        "id": "Td96AAma2dRm",
        "outputId": "72266802-ee57-4f73-9dd5-6310d9c4b410"
      },
      "source": [
        "def str_xor(s, t):\n",
        "    res=[]\n",
        "    lens=len(s)\n",
        "    lent=len(t)\n",
        "    if lens==lent:\n",
        "        for i in range(len(s)):\n",
        "            if s[i] == t[i]:\n",
        "                res.append(\"0\")\n",
        "            else:\n",
        "                res.append(\"1\")\n",
        "        \n",
        "    return str((\"\".join(res)))\n",
        "\n",
        "s = input()\n",
        "t = input()\n",
        "print(str_xor(s, t))\n"
      ],
      "execution_count": 2,
      "outputs": [
        {
          "output_type": "stream",
          "name": "stdout",
          "text": [
            "1101010101001100101100111110100000110111111000\n",
            "0110001101110100000000000000101000110010010100\n",
            "1011011000111000101100111110001000000101101100\n"
          ]
        }
      ]
    },
    {
      "cell_type": "markdown",
      "metadata": {
        "id": "lJKWjwHD3Qu1"
      },
      "source": [
        "Method 2\n"
      ]
    },
    {
      "cell_type": "code",
      "metadata": {
        "colab": {
          "base_uri": "https://localhost:8080/"
        },
        "id": "9Ev_t6SO25QC",
        "outputId": "8aaa0628-d6e6-487c-df58-a93a26228171"
      },
      "source": [
        "def strings_xor(s, t):\n",
        "    res = \"\"\n",
        "    for i in range(len(s)):\n",
        "        if s[i] == t[i]:\n",
        "            res += '0';\n",
        "        else:\n",
        "            res += '1';\n",
        "\n",
        "    return res\n",
        "\n",
        "s = input()\n",
        "t = input()\n",
        "print(strings_xor(s, t))"
      ],
      "execution_count": 3,
      "outputs": [
        {
          "output_type": "stream",
          "name": "stdout",
          "text": [
            "10101\n",
            "00101\n",
            "10000\n"
          ]
        }
      ]
    }
  ]
}