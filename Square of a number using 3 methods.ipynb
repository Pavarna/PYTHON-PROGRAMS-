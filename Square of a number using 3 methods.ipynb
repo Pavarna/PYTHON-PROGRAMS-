{
  "nbformat": 4,
  "nbformat_minor": 0,
  "metadata": {
    "colab": {
      "name": "Untitled0.ipynb",
      "provenance": []
    },
    "kernelspec": {
      "name": "python3",
      "display_name": "Python 3"
    },
    "language_info": {
      "name": "python"
    }
  },
  "cells": [
    {
      "cell_type": "markdown",
      "metadata": {
        "id": "Plb-asVBNULU"
      },
      "source": [
        "# To find Square of a number\n",
        "1. Lambda funtion\n",
        "2. Function\n",
        "3. Numpy\n"
      ]
    },
    {
      "cell_type": "code",
      "metadata": {
        "colab": {
          "base_uri": "https://localhost:8080/"
        },
        "id": "mfQ8TRGyfvvy",
        "outputId": "79b15caa-c821-4f5a-9a76-3e99304e7cf5"
      },
      "source": [
        "#METHOD 1 using LAMBDA\n",
        "num=int(input(\"Enter any number\"))\n",
        "res=lambda x: x**2\n",
        "print(\"Square of \",num,\"is :\",res(num))"
      ],
      "execution_count": 18,
      "outputs": [
        {
          "output_type": "stream",
          "name": "stdout",
          "text": [
            "Enter any number9\n",
            "Square of  9 is : 81\n"
          ]
        }
      ]
    },
    {
      "cell_type": "code",
      "metadata": {
        "colab": {
          "base_uri": "https://localhost:8080/"
        },
        "id": "9KCf0Zq8MYvL",
        "outputId": "728e9d24-de82-4221-b4cf-5c9ca3f5f92f"
      },
      "source": [
        "#METHOD 2 using FUNCTION\n",
        "def square(num):\n",
        "  return pow(num,2)\n",
        "  \n",
        "num=int(input(\"Enter any number\"))\n",
        "print(\"Square of \",num,\"is :\",square(num))"
      ],
      "execution_count": 19,
      "outputs": [
        {
          "output_type": "stream",
          "name": "stdout",
          "text": [
            "Enter any number7\n",
            "Square of  7 is : 49\n"
          ]
        }
      ]
    },
    {
      "cell_type": "code",
      "metadata": {
        "colab": {
          "base_uri": "https://localhost:8080/"
        },
        "id": "eBH5_zQhOaTF",
        "outputId": "5867c4a0-2254-44f8-a62d-d9e98dc4420c"
      },
      "source": [
        "#METHOD 3 using NUMPY\n",
        "import numpy as np\n",
        "arr=np.array([2,3,4,5])\n",
        "print(np.square(arr))"
      ],
      "execution_count": 20,
      "outputs": [
        {
          "output_type": "stream",
          "name": "stdout",
          "text": [
            "[ 4  9 16 25]\n"
          ]
        }
      ]
    }
  ]
}