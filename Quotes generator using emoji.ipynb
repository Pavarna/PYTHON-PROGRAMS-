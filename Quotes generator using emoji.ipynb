{
  "nbformat": 4,
  "nbformat_minor": 0,
  "metadata": {
    "colab": {
      "name": "Untitled0.ipynb",
      "provenance": []
    },
    "kernelspec": {
      "name": "python3",
      "display_name": "Python 3"
    },
    "language_info": {
      "name": "python"
    }
  },
  "cells": [
    {
      "cell_type": "markdown",
      "metadata": {
        "id": "Plb-asVBNULU"
      },
      "source": [
        "# Quotes generator using emoji based on our frame of mind\n",
        "\n"
      ]
    },
    {
      "cell_type": "code",
      "metadata": {
        "colab": {
          "base_uri": "https://localhost:8080/"
        },
        "id": "mfQ8TRGyfvvy",
        "outputId": "9b2e7935-25fb-474d-a881-64d95cc6702e"
      },
      "source": [
        "print(\"*** Quote Generator ***\")\n",
        "print(\" Type number based on your emoji\")\n",
        "\n",
        "print(\"\\nHow you feel today? \")\n",
        "print(\"1.\\U0001F600 2.\\U0001F618 3.\\U0001F917 4.\\U0001F62A 5.\\U0001F637 6.\\U0001F621 7.\\U0001F634 8.\\U0001F626 9.\\U0001F913 10.\\U0001F616 11.\\U0001F607 12.\\U0001F622 \")\n",
        "feel=int(input(\"\\nEnter the number : \"))\n",
        "if feel==1:\n",
        "  print(\"\\U0001F600 There is only one happiness in this life, to love and be loved.\") \n",
        "elif feel==2:\n",
        "  print(\"\\U0001F618  Love is like the wind. I can’t see it, but I can feel it.\")\n",
        "elif feel==3:\n",
        "  print(\"\\U0001F917 A hug is like a boomerang – you get it back right away.\")\n",
        "elif feel==4:\n",
        "  print(\"\\U0001F62A  Sleep is the best meditation.\")\n",
        "elif feel==5:\n",
        "  print(\"\\U0001F637 Health is not valued till sickness comes.\")\n",
        "elif feel==6:\n",
        "  print(\"\\U0001F621 Anger Is One Letter Short Of Danger. \")\n",
        "elif feel==7:\n",
        "  print(\"\\U0001F634 A good laugh and a long sleep are the best cures in the doctor's book\")\n",
        "elif feel==8:\n",
        "  print(\"\\U0001F626 Surprise is the greatest gift which life can grant us.\")\n",
        "elif feel==9:\n",
        "  print(\"\\U0001F913 You must be the change you wish to see in the world.\")\n",
        "elif feel==10:\n",
        "  print(\"\\U0001F616 Expectation is the mother of all frustration.\")\n",
        "elif feel==11:\n",
        "  print(\"\\U0001F607 A positive mindset brings positive things.\")\n",
        "elif feel==12:\n",
        "  print(\"\\U0001F622 When things go wrong, don't go with them.\")\n",
        "else:\n",
        "  print(\"Select number from 1 to 12 \")"
      ],
      "execution_count": 1,
      "outputs": [
        {
          "output_type": "stream",
          "name": "stdout",
          "text": [
            "*** Quote Generator ***\n",
            " Type number based on your emoji\n",
            "\n",
            "How you feel today? \n",
            "1.😀 2.😘 3.🤗 4.😪 5.😷 6.😡 7.😴 8.😦 9.🤓 10.😖 11.😇 12.😢 \n",
            "\n",
            "Enter the number : 1\n",
            "😀 There is only one happiness in this life, to love and be loved.\n"
          ]
        }
      ]
    }
  ]
}