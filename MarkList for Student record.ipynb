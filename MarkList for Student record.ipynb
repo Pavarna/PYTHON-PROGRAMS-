{
  "nbformat": 4,
  "nbformat_minor": 0,
  "metadata": {
    "colab": {
      "name": "Untitled0.ipynb",
      "provenance": []
    },
    "kernelspec": {
      "name": "python3",
      "display_name": "Python 3"
    },
    "language_info": {
      "name": "python"
    }
  },
  "cells": [
    {
      "cell_type": "markdown",
      "metadata": {
        "id": "Plb-asVBNULU"
      },
      "source": [
        "# Printing Marklist of Student record\n",
        "\n"
      ]
    },
    {
      "cell_type": "code",
      "metadata": {
        "id": "WCI8a8yjwH1g"
      },
      "source": [
        "#two dimnesional list\n",
        "student_record = [[1,\"Pavarna\",89,85,98],   \n",
        "                  [2,\"Dora\",56,75,94],\n",
        "                  [3,\"Manav\",84,83,75],\n",
        "                  [4,\"Nandita\",36,65,58],\n",
        "                  [5,\"Arlene\",95,82,96],\n",
        "                  [6,\"Viji\",65,23,97],\n",
        "                  [7,\"Kalpana\",59,45,78],\n",
        "                  [8,\"Mathu\",79,75,89],\n",
        "                  [9,\"Suganya\",29,65,52],\n",
        "                  [10,\"Nivetha\",69,35,49],\n",
        "                  [11,\"Usha\",79,83,39],\n",
        "                  [12,\"Minchu\",65,80,59],\n",
        "                  [13,\"Samant\",67,84,83]]\n",
        "\n"
      ],
      "execution_count": 2,
      "outputs": []
    },
    {
      "cell_type": "code",
      "metadata": {
        "colab": {
          "base_uri": "https://localhost:8080/"
        },
        "id": "Ak0kClBReHzS",
        "outputId": "bfaad067-616c-48f3-83c3-4628fcf37f6f"
      },
      "source": [
        "Roll=int(input(\"Enter the roll number :\"))\n",
        "\n",
        "for data in student_record:                                             #traversing from student_record list\n",
        "  if(data[0] == Roll):                                                  #if roll number exsist in student_record\n",
        "    print(\"\\n****Student Detail****\")\n",
        "    print(\"Name: \",data[1])                                             #printing name (data[1])-> student_record[i][1] has name\n",
        "    print(\"Roll number: \",data[0])\n",
        "    print(\"\\n**** Marks ****\")\n",
        "    print(\"Physics   : \",data[2],\"\\nChemistry : \",data[3],\"\\nComputer  : \",data[4])\n",
        "    print(\"\\n***Results****\")\n",
        "    print(\"Total  :\",sum(data[2:5]))                                    #printing sum of marks in phy, che, and com\n",
        "    print(\"Out of :\",len(data[2:5]) *100)                               #len(data[2:5]) gives 3. 3*100 =300\n",
        "    print(\"Percentage : {:.2f}\".format( ( sum(data[2:5]) / len(data[2:5]) ) ),\"%\")  #formating the percentage with precision\n"
      ],
      "execution_count": 3,
      "outputs": [
        {
          "output_type": "stream",
          "name": "stdout",
          "text": [
            "Enter the roll number :1\n",
            "\n",
            "****Student Detail****\n",
            "Name:  Pavarna\n",
            "Roll number:  1\n",
            "\n",
            "**** Marks ****\n",
            "Physics   :  89 \n",
            "Chemistry :  85 \n",
            "Computer  :  98\n",
            "\n",
            "***Results****\n",
            "Total  : 272\n",
            "Out of : 300\n",
            "Percentage : 90.67 %\n"
          ]
        }
      ]
    }
  ]
}