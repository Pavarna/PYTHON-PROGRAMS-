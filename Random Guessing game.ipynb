{
  "nbformat": 4,
  "nbformat_minor": 0,
  "metadata": {
    "colab": {
      "name": "Untitled0.ipynb",
      "provenance": []
    },
    "kernelspec": {
      "name": "python3",
      "display_name": "Python 3"
    },
    "language_info": {
      "name": "python"
    }
  },
  "cells": [
    {
      "cell_type": "markdown",
      "metadata": {
        "id": "Plb-asVBNULU"
      },
      "source": [
        "# Simple Random Guessing Game\n",
        " Guess by entering highest number\n"
      ]
    },
    {
      "cell_type": "code",
      "metadata": {
        "colab": {
          "base_uri": "https://localhost:8080/"
        },
        "id": "kfvIgAgtLdTi",
        "outputId": "9551feb5-1554-4c72-9904-8f5aab0256da"
      },
      "source": [
        "import random\n",
        "user_num=int(input(\"Enter any highest number\"))\n",
        "rand_num=random.randint(1,user_num)\n",
        "user_guess=int(input(\"Enter your guessed number\"))\n",
        "while rand_num!= user_guess:\n",
        "  if(user_guess<rand_num):\n",
        "    print(\"Oops! Your guess is lower than the number\\nTry again\")\n",
        "    break\n",
        "  elif(user_guess>rand_num):\n",
        "     print(\"Oops! Your guess is higher than the number\\nTry again\")\n",
        "     break\n",
        "  else:\n",
        "    print(\"Amazing! Your guess is right\")\n",
        "    \n"
      ],
      "execution_count": 6,
      "outputs": [
        {
          "output_type": "stream",
          "name": "stdout",
          "text": [
            "Enter any highest number9876\n",
            "Enter your guessed number65\n",
            "Oops! Your guess is lower than the number\n",
            "Try again\n"
          ]
        }
      ]
    }
  ]
}