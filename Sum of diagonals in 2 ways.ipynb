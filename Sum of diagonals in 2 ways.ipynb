{
  "nbformat": 4,
  "nbformat_minor": 0,
  "metadata": {
    "colab": {
      "name": "Untitled0.ipynb",
      "provenance": []
    },
    "kernelspec": {
      "name": "python3",
      "display_name": "Python 3"
    },
    "language_info": {
      "name": "python"
    }
  },
  "cells": [
    {
      "cell_type": "markdown",
      "metadata": {
        "id": "Plb-asVBNULU"
      },
      "source": [
        "# 1. Sum of diagonal\n",
        "\n"
      ]
    },
    {
      "cell_type": "code",
      "metadata": {
        "id": "WCI8a8yjwH1g",
        "colab": {
          "base_uri": "https://localhost:8080/"
        },
        "outputId": "a48001ba-87da-40fc-d1f1-c7e74cd54cef"
      },
      "source": [
        "# 4X4 matrix\n",
        "lis=[[10,23,45,65], \n",
        "      [34,15,76,12],\n",
        "      [37,88,99,43],\n",
        "      [74,22,80,32]] \n",
        "sum =0\n",
        "\n",
        "if ( len(lis)==len(lis[0])): #checking if it is a square matix\n",
        "  print(\"Diagonals\")         \n",
        "  for i in range(len(lis)):\n",
        "    sum += lis[i][i]\n",
        "    print(lis[i][i])        \n",
        "    \n",
        "print(\"Sum of diagonals :\",sum)\n",
        " \n",
        "#lis[0][0] =10\n",
        " #lis[1][1] =15\n",
        "  #lis[2][2] =99\n",
        "   #lis[3][3] =32\n"
      ],
      "execution_count": 35,
      "outputs": [
        {
          "output_type": "stream",
          "name": "stdout",
          "text": [
            "Diagonals\n",
            "10\n",
            "15\n",
            "99\n",
            "32\n",
            "Sum of diagonals : 156\n"
          ]
        }
      ]
    },
    {
      "cell_type": "markdown",
      "metadata": {
        "id": "G9q8_eZ3oU0d"
      },
      "source": [
        "# 2.Sum of opposite diagonal"
      ]
    },
    {
      "cell_type": "code",
      "metadata": {
        "colab": {
          "base_uri": "https://localhost:8080/"
        },
        "id": "XyG669unj3qw",
        "outputId": "c1d44b25-5a19-4589-da9c-97e80730196b"
      },
      "source": [
        "#two dimensional list\n",
        "lis= [[1,2,3], \n",
        "      [4,5,6],\n",
        "      [7,8,9]]\n",
        "sum=0\n",
        "\n",
        "if ( len(lis)==len(lis[0])): #checking if it is a square matix\n",
        "  print(\"Diagonals\")         \n",
        "  for i in range(len(lis)):\n",
        "   print(lis[i][len(lis)-i-1])       \n",
        "   sum+=lis[i][len(lis)-i-1]\n",
        "\n",
        "print(\"Sum of diagonals :\",sum)\n",
        "  #lis[0][3-0-1] gives lis[0][2] = 3\n",
        "    #lis[1][3-1-1] gives lis[0][1] = 5\n",
        "      #lis[2][3-2-1] gives lis[0][0] = 7"
      ],
      "execution_count": 34,
      "outputs": [
        {
          "output_type": "stream",
          "name": "stdout",
          "text": [
            "Diagonals\n",
            "3\n",
            "5\n",
            "7\n",
            "Sum of diagonals : 15\n"
          ]
        }
      ]
    }
  ]
}