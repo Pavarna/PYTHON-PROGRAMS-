{
  "nbformat": 4,
  "nbformat_minor": 0,
  "metadata": {
    "colab": {
      "name": "Untitled0.ipynb",
      "provenance": []
    },
    "kernelspec": {
      "name": "python3",
      "display_name": "Python 3"
    },
    "language_info": {
      "name": "python"
    }
  },
  "cells": [
    {
      "cell_type": "markdown",
      "metadata": {
        "id": "Plb-asVBNULU"
      },
      "source": [
        "# Factors of a number\n",
        "\n"
      ]
    },
    {
      "cell_type": "code",
      "metadata": {
        "id": "WCI8a8yjwH1g",
        "colab": {
          "base_uri": "https://localhost:8080/"
        },
        "outputId": "951e753e-696d-4f8d-dc30-4ffba2df0b51"
      },
      "source": [
        "#Method 1\n",
        "num=int(input(\"Enter the number :\"))\n",
        "if num==0:\n",
        "  print(num, \"has no factor\")\n",
        "elif num<0:\n",
        "  print(f\"Factor of {num}:\",abs(num))\n",
        "elif num>0:\n",
        "  print(f\"Factors of {num}: \")\n",
        "  for i in range(1,num+1):\n",
        "    if((num%i)==0):\n",
        "      print(i)"
      ],
      "execution_count": 6,
      "outputs": [
        {
          "output_type": "stream",
          "name": "stdout",
          "text": [
            "Enter the number :6\n",
            "Factors of 6: \n",
            "1\n",
            "2\n",
            "3\n",
            "6\n"
          ]
        }
      ]
    },
    {
      "cell_type": "code",
      "metadata": {
        "colab": {
          "base_uri": "https://localhost:8080/"
        },
        "id": "rIzHNcyvFAZ7",
        "outputId": "256cada9-5059-4492-b12c-205d5df376ed"
      },
      "source": [
        "#Method 2\n",
        "def factors(n):\n",
        "  print(f\"Factors of {num}: \")\n",
        "  for i in range(1,n+1):\n",
        "    if((n%i)==0):\n",
        "      print(i)\n",
        "  \n",
        "num=int(input(\"Enter the number :\"))\n",
        "if num==0:\n",
        "  print(num, \"has no factor\")\n",
        "elif num<0:\n",
        "  print(f\"Factor of {num}:\",abs(num))\n",
        "elif num>0:\n",
        "  factors(num)"
      ],
      "execution_count": 7,
      "outputs": [
        {
          "output_type": "stream",
          "name": "stdout",
          "text": [
            "Enter the number :104\n",
            "Factors of 104: \n",
            "1\n",
            "2\n",
            "4\n",
            "8\n",
            "13\n",
            "26\n",
            "52\n",
            "104\n"
          ]
        }
      ]
    }
  ]
}