{
  "nbformat": 4,
  "nbformat_minor": 0,
  "metadata": {
    "colab": {
      "name": "Untitled0.ipynb",
      "provenance": []
    },
    "kernelspec": {
      "name": "python3",
      "display_name": "Python 3"
    },
    "language_info": {
      "name": "python"
    }
  },
  "cells": [
    {
      "cell_type": "markdown",
      "metadata": {
        "id": "82VGIIlCQocR"
      },
      "source": [
        "# Tricky yet simple program\n",
        "1.Addition without + operator\n",
        "\n",
        "2.Multiplication table of 2,4 and 8 without * operator\n",
        "\n",
        "3.Subtraction without - operator"
      ]
    },
    {
      "cell_type": "markdown",
      "metadata": {
        "id": "DRD1qzZqRh0R"
      },
      "source": [
        "# Addition without + operator"
      ]
    },
    {
      "cell_type": "code",
      "metadata": {
        "colab": {
          "base_uri": "https://localhost:8080/"
        },
        "id": "fRv9XkVCU0pR",
        "outputId": "84283d23-1733-4350-c6e1-800a02ccf6ca"
      },
      "source": [
        "# ADDITON WITHOUT + OPERATOR\n",
        "print( \"*** ADDITON WITHOUT + OPERATOR ***\")\n",
        "\n",
        "num_1= int(input(\"Enter number 1 :\"))\n",
        "num_2= int(input(\"Enter number 2 :\"))\n",
        "\n",
        "print(f\"Addition of {num_1} and {num_2} :\",(num_1 -(-num_2)))  #num_1 = 2 num_2= 3 ( 2 -(-3))\n",
        "\n",
        "# In print function, instead of adding + or , after the string use 'f' and parameter within { }."
      ],
      "execution_count": 21,
      "outputs": [
        {
          "output_type": "stream",
          "name": "stdout",
          "text": [
            "*** ADDITON WITHOUT + OPERATOR ***\n",
            "Enter number 1 :2\n",
            "Enter number 2 :3\n",
            "Addition of 2 and 3 : 5\n"
          ]
        }
      ]
    },
    {
      "cell_type": "markdown",
      "metadata": {
        "id": "Hu8lXdgwRolE"
      },
      "source": [
        "# Multiplication table of 2 without * operator"
      ]
    },
    {
      "cell_type": "code",
      "metadata": {
        "colab": {
          "base_uri": "https://localhost:8080/"
        },
        "id": "0pqMU0dzQCWj",
        "outputId": "3c5ad6e6-5808-49c3-b3b4-75b6537c5334"
      },
      "source": [
        "# MULTIPLICATION TABLE OF 2 WITHOUT * OPERATOR\n",
        "print( \"*** MULTIPLICATION OF 2ND TABLE WITHOUT * OPERATOR ***\")\n",
        "\n",
        "for i in range(1,11):\n",
        "  print( \"2 x \", i, \"=\", i<<1) \n"
      ],
      "execution_count": 22,
      "outputs": [
        {
          "output_type": "stream",
          "name": "stdout",
          "text": [
            "*** MULTIPLICATION OF 2ND TABLE WITHOUT * OPERATOR ***\n",
            "2 x  1 = 2\n",
            "2 x  2 = 4\n",
            "2 x  3 = 6\n",
            "2 x  4 = 8\n",
            "2 x  5 = 10\n",
            "2 x  6 = 12\n",
            "2 x  7 = 14\n",
            "2 x  8 = 16\n",
            "2 x  9 = 18\n",
            "2 x  10 = 20\n"
          ]
        }
      ]
    },
    {
      "cell_type": "markdown",
      "metadata": {
        "id": "2wO-4GoYRvtc"
      },
      "source": [
        "# Multiplication table of 4 without * operator"
      ]
    },
    {
      "cell_type": "code",
      "metadata": {
        "colab": {
          "base_uri": "https://localhost:8080/"
        },
        "id": "VaSVhwR8Rzql",
        "outputId": "33817627-e937-4c82-b103-14e223fa8300"
      },
      "source": [
        "# MULTIPLICATION TABLE OF 4 WITHOUT * OPERATOR\n",
        "print( \"*** MULTIPLICATION TABLE OF 4 WITHOUT * OPERATOR ***\")\n",
        "\n",
        "for i in range(1,11):\n",
        "  print( \"4 x \", i, \"=\", i<<2) "
      ],
      "execution_count": 23,
      "outputs": [
        {
          "output_type": "stream",
          "name": "stdout",
          "text": [
            "*** MULTIPLICATION TABLE OF 4 WITHOUT * OPERATOR ***\n",
            "4 x  1 = 4\n",
            "4 x  2 = 8\n",
            "4 x  3 = 12\n",
            "4 x  4 = 16\n",
            "4 x  5 = 20\n",
            "4 x  6 = 24\n",
            "4 x  7 = 28\n",
            "4 x  8 = 32\n",
            "4 x  9 = 36\n",
            "4 x  10 = 40\n"
          ]
        }
      ]
    },
    {
      "cell_type": "markdown",
      "metadata": {
        "id": "ztewwYxWR-SR"
      },
      "source": [
        "# Multiplication table of 8 without * operator\n",
        "\n",
        "\n",
        "\n",
        "\n"
      ]
    },
    {
      "cell_type": "code",
      "metadata": {
        "colab": {
          "base_uri": "https://localhost:8080/"
        },
        "id": "UFmgnu5_SC2t",
        "outputId": "953fb3cc-947e-4334-8b6b-19f23bf4da02"
      },
      "source": [
        "# MULTIPLICATION TABLE OF 8 WITHOUT * OPERATOR\n",
        "print( \"*** MULTIPLICATION TABLE OF 8 WITHOUT * OPERATOR ***\")\n",
        "\n",
        "for i in range(1,11):\n",
        "  print( \"8 x \", i, \"=\", i<<3) "
      ],
      "execution_count": 24,
      "outputs": [
        {
          "output_type": "stream",
          "name": "stdout",
          "text": [
            "*** MULTIPLICATION TABLE OF 8 WITHOUT * OPERATOR ***\n",
            "8 x  1 = 8\n",
            "8 x  2 = 16\n",
            "8 x  3 = 24\n",
            "8 x  4 = 32\n",
            "8 x  5 = 40\n",
            "8 x  6 = 48\n",
            "8 x  7 = 56\n",
            "8 x  8 = 64\n",
            "8 x  9 = 72\n",
            "8 x  10 = 80\n"
          ]
        }
      ]
    },
    {
      "cell_type": "markdown",
      "metadata": {
        "id": "hjlDq4DqSbjB"
      },
      "source": [
        "# Subtraction without - operator"
      ]
    },
    {
      "cell_type": "code",
      "metadata": {
        "colab": {
          "base_uri": "https://localhost:8080/"
        },
        "id": "3vZp-LVsSe8c",
        "outputId": "4f1c7dbe-e65d-4331-cc6c-4c87fda4e444"
      },
      "source": [
        "# SUBRACTION WITHOUT - OPERATOR\n",
        "print( \"*** SUBTRACTION WITHOUT - OPERATOR ***\")\n",
        "\n",
        "num_1= int(input(\"Enter number 1 :\"))\n",
        "num_2= int(input(\"Enter number 2 :\"))\n",
        "\n",
        "print(f\"Subtraction of {num_1} and {num_2} :\",(num_1 + (~num_2)+1))  #num_1 = 10 num_2= 6 ( 10 + (~6)+1) Here ~6  gives -7"
      ],
      "execution_count": 26,
      "outputs": [
        {
          "output_type": "stream",
          "name": "stdout",
          "text": [
            "*** SUBTRACTION WITHOUT - OPERATOR ***\n",
            "Enter number 1 :10\n",
            "Enter number 2 :6\n",
            "Subtraction of 10 and 6 : 4\n"
          ]
        }
      ]
    }
  ]
}