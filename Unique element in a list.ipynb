{
  "nbformat": 4,
  "nbformat_minor": 0,
  "metadata": {
    "colab": {
      "name": "Untitled0.ipynb",
      "provenance": []
    },
    "kernelspec": {
      "name": "python3",
      "display_name": "Python 3"
    },
    "language_info": {
      "name": "python"
    }
  },
  "cells": [
    {
      "cell_type": "markdown",
      "metadata": {
        "id": "j6ogcFZ2X_cz"
      },
      "source": [
        "\n",
        "\n",
        "#Find Unique element\n",
        "Given an array of integers, where all elements but one occur twice, find the unique element."
      ]
    },
    {
      "cell_type": "code",
      "metadata": {
        "colab": {
          "base_uri": "https://localhost:8080/"
        },
        "id": "W9crZJW6zuLc",
        "outputId": "b86b4d0c-62eb-4c91-be8f-c9938d2735ac"
      },
      "source": [
        "def uni(a):\n",
        "   \n",
        "    arr=a\n",
        "    for i in range(len(arr)):\n",
        "        if(arr.count(arr[i])==1):\n",
        "               unique=arr[i]\n",
        "    return unique\n",
        "\n",
        "lst=[1,2,3,2,1,10,10]\n",
        "print(uni(lst))"
      ],
      "execution_count": 1,
      "outputs": [
        {
          "output_type": "stream",
          "name": "stdout",
          "text": [
            "3\n"
          ]
        }
      ]
    },
    {
      "cell_type": "code",
      "metadata": {
        "id": "cEscvWV4zuQO"
      },
      "source": [
        ""
      ],
      "execution_count": null,
      "outputs": []
    }
  ]
}