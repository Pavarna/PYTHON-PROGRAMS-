{
  "nbformat": 4,
  "nbformat_minor": 0,
  "metadata": {
    "colab": {
      "name": "Untitled1.ipynb",
      "provenance": []
    },
    "kernelspec": {
      "name": "python3",
      "display_name": "Python 3"
    },
    "language_info": {
      "name": "python"
    }
  },
  "cells": [
    {
      "cell_type": "markdown",
      "metadata": {
        "id": "vNVPAzK3BKaZ"
      },
      "source": [
        "#Interview coding - To generate a key from input\n",
        "\n",
        "1. Get three input from user\n",
        "2. Generate the key based on combination of\n",
        "    - smallest digit in thousands place of all three numbers\n",
        "    - smallest digit in hundreds place of all three numbers\n",
        "    - smallest digit in tens place of all three numbers\n",
        "    - smallest digit in units place of all three numbers\n",
        "\n",
        "eg - if input1 =3521, input2 =2452, input3 =1352\n",
        "then key =[1][3][2][1]"
      ]
    },
    {
      "cell_type": "code",
      "metadata": {
        "colab": {
          "base_uri": "https://localhost:8080/"
        },
        "id": "sAyUUEi_ArUD",
        "outputId": "1582cc87-6aaf-4580-c25b-72c44b00e0c6"
      },
      "source": [
        "num_list=[]\n",
        "min_unit=[]\n",
        "min_tens=[]\n",
        "min_hun=[]\n",
        "min_thous=[]\n",
        "\n",
        "def process(num1,num2,num):\n",
        "  num_list.append(num1)  #appending the parameters\n",
        "  num_list.append(num2)\n",
        "  num_list.append(num3)\n",
        "  for i in num_list:   #converting the numbers in list to str\n",
        "    st=str(i)\n",
        "   \n",
        "    for j in st:      #traversing through each of the element in str\n",
        "      min_unit.append(min(st[3]))   #finding minimum value based on index\n",
        "      min_tens.append(min(st[2]))\n",
        "      min_hun.append(min(st[1]))\n",
        "      min_thous.append(min(st[0]))\n",
        "     \n",
        "  return min(min_thous)+min(min_hun)+min(min_tens)+min(min_unit)\n",
        "\n",
        "num1=int(input(\"Enter the num1 :\"))\n",
        "num2=int(input(\"Enter the num2 :\"))\n",
        "num3=int(input(\"Enter the num3 :\"))  \n",
        "\n",
        "print(\"Key :\",process(num1,num2,num3))\n"
      ],
      "execution_count": null,
      "outputs": [
        {
          "output_type": "stream",
          "name": "stdout",
          "text": [
            "Enter the num1 :9873\n",
            "Enter the num2 :2386\n",
            "Enter the num3 :4579\n",
            "Key : 2373\n"
          ]
        }
      ]
    }
  ]
}