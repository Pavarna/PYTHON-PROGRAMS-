{
  "nbformat": 4,
  "nbformat_minor": 0,
  "metadata": {
    "colab": {
      "name": "Untitled0.ipynb",
      "provenance": []
    },
    "kernelspec": {
      "name": "python3",
      "display_name": "Python 3"
    },
    "language_info": {
      "name": "python"
    }
  },
  "cells": [
    {
      "cell_type": "markdown",
      "metadata": {
        "id": "j6ogcFZ2X_cz"
      },
      "source": [
        "# Difference of sum of diagonals"
      ]
    },
    {
      "cell_type": "code",
      "metadata": {
        "colab": {
          "base_uri": "https://localhost:8080/"
        },
        "id": "62OW5h3Db2pZ",
        "outputId": "e98fbb6b-718d-4010-cb5c-59835453c110"
      },
      "source": [
        "def diagonalDifference(arr):\n",
        "    # Write your code here\n",
        "    lst=arr\n",
        "    sum_dia=0\n",
        "    sum_opp=0\n",
        "    if (len(lst)==len(lst[0])):\n",
        "        for i in range(len(lst)):\n",
        "            sum_dia+=lst[i][i]\n",
        "        print(\"Sum of diagonals :\",sum_dia)\n",
        "        for i in range(len(lst)):\n",
        "            sum_opp+=lst[i][len(lst)-i-1]\n",
        "        print(\"Sum of opposite diagonals :\",sum_opp)\n",
        "    dif=sum_opp-sum_dia\n",
        "    return abs(dif)\n",
        "        \n",
        "l=[ [11,2,4],\n",
        "    [4,5,6],\n",
        "    [10,8,-12] ]\n",
        "print(\"Difference of sum of diagonals :\",diagonalDifference(l))\n",
        "\n",
        "\n",
        "#FOR DIAGONALS\n",
        "#lis[0][0] =11\n",
        " #lis[1][1] =5\n",
        "  #lis[2][2] =-12\n",
        "\n",
        "# FOR OPPOSITE DIAGONALS\n",
        " #lis[0][3-0-1] gives lis[0][2] = 4\n",
        "    #lis[1][3-1-1] gives lis[0][1] = 5\n",
        "      #lis[2][3-2-1] gives lis[0][0] = 10"
      ],
      "execution_count": 5,
      "outputs": [
        {
          "output_type": "stream",
          "name": "stdout",
          "text": [
            "Sum of diagonals : 4\n",
            "Sum of opposite diagonals : 19\n",
            "Difference of sum of diagonals : 15\n"
          ]
        }
      ]
    }
  ]
}