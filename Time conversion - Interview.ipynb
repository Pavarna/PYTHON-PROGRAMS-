{
  "nbformat": 4,
  "nbformat_minor": 0,
  "metadata": {
    "colab": {
      "name": "Untitled0.ipynb",
      "provenance": []
    },
    "kernelspec": {
      "name": "python3",
      "display_name": "Python 3"
    },
    "language_info": {
      "name": "python"
    }
  },
  "cells": [
    {
      "cell_type": "markdown",
      "metadata": {
        "id": "j6ogcFZ2X_cz"
      },
      "source": [
        "#Time conversion\n",
        "Given a time in 12-hour AM/PM format, convert it to military (24-hour) time.\n",
        "\n",
        "Note: - 12:00:00AM on a 12-hour clock is 00:00:00 on a 24-hour clock.\n",
        "- 12:00:00PM on a 12-hour clock is 12:00:00 on a 24-hour clock."
      ]
    },
    {
      "cell_type": "markdown",
      "metadata": {
        "id": "Zluo6LSIekf7"
      },
      "source": [
        "Converting 12:00:00AM in military time"
      ]
    },
    {
      "cell_type": "code",
      "metadata": {
        "colab": {
          "base_uri": "https://localhost:8080/"
        },
        "id": "xvD25CoudALU",
        "outputId": "5f81d06f-a1f4-40b7-ce7e-c3c2d0631b15"
      },
      "source": [
        "def timeConver(s):\n",
        "    st=s\n",
        "    if(st[-2:]=='PM' and int(st[0:2])<12):  #if the input is PM and time less than 12\n",
        "        num=int(st[0:2])\n",
        "        num=num+12                          #Converting to military time for eg, 7Pm -> 19 PM\n",
        "        time=str(num)+st[2:-2]\n",
        "    elif(st[-2:]=='AM' and st[0:2]=='12'):  #If the input is 12AM converting 12 to 00\n",
        "        time='00'+st[2:-2]\n",
        "    else:\n",
        "        time=st[0:-2]                       #Else returning time wihtout AM in last\n",
        "    return time\n",
        "\n",
        "s = input()\n",
        "print(s, \" in military time :\", timeConver(s))"
      ],
      "execution_count": 2,
      "outputs": [
        {
          "output_type": "stream",
          "name": "stdout",
          "text": [
            "12:00:00AM\n",
            "12:00:00AM  in military time : 00:00:00\n"
          ]
        }
      ]
    },
    {
      "cell_type": "markdown",
      "metadata": {
        "id": "JibCgUhkeqJO"
      },
      "source": [
        "07:05:45PM  in military time"
      ]
    },
    {
      "cell_type": "code",
      "metadata": {
        "colab": {
          "base_uri": "https://localhost:8080/"
        },
        "id": "-jXuaZtAd0F4",
        "outputId": "abd4ab67-bbe0-412a-e277-03b515987857"
      },
      "source": [
        "def timeConver(s):\n",
        "    st=s\n",
        "    if(st[-2:]=='PM' and int(st[0:2])<12):  #if the input is PM and time less than 12\n",
        "        num=int(st[0:2])\n",
        "        num=num+12                          #Converting to military time for eg, 7Pm -> 19 PM\n",
        "        time=str(num)+st[2:-2]\n",
        "    elif(st[-2:]=='AM' and st[0:2]=='12'):  #If the input is 12AM converting 12 to 00\n",
        "        time='00'+st[2:-2]\n",
        "    else:\n",
        "        time=st[0:-2]                       #Else returning time wihtout AM in last\n",
        "    return time\n",
        "\n",
        "s = input()\n",
        "print(s, \" in military time :\", timeConver(s))"
      ],
      "execution_count": null,
      "outputs": [
        {
          "output_type": "stream",
          "name": "stdout",
          "text": [
            "07:05:45PM\n",
            "07:05:45PM  in military time : 19:05:45\n"
          ]
        }
      ]
    },
    {
      "cell_type": "markdown",
      "metadata": {
        "id": "uVC8mV4AfPpx"
      },
      "source": [
        "06:40:03AM  in military time"
      ]
    },
    {
      "cell_type": "code",
      "metadata": {
        "colab": {
          "base_uri": "https://localhost:8080/"
        },
        "id": "v0U7ICw6d0p7",
        "outputId": "10d6ed35-b9e7-438f-a8fc-9f474a3b0ac3"
      },
      "source": [
        "def timeConver(s):\n",
        "    st=s\n",
        "    if(st[-2:]=='PM' and int(st[0:2])<12):  #if the input is PM and time less than 12\n",
        "        num=int(st[0:2])\n",
        "        num=num+12                          #Converting to military time for eg, 7Pm -> 19 PM\n",
        "        time=str(num)+st[2:-2]\n",
        "    elif(st[-2:]=='AM' and st[0:2]=='12'):  #If the input is 12AM converting 12 to 00\n",
        "        time='00'+st[2:-2]\n",
        "    else:\n",
        "        time=st[0:-2]                       #Else returning time wihtout AM in last\n",
        "    return time\n",
        "\n",
        "s = input()\n",
        "print(s, \" in military time :\", timeConver(s))"
      ],
      "execution_count": 3,
      "outputs": [
        {
          "output_type": "stream",
          "name": "stdout",
          "text": [
            "06:40:03AM\n",
            "06:40:03AM  in military time : 06:40:03\n"
          ]
        }
      ]
    }
  ]
}