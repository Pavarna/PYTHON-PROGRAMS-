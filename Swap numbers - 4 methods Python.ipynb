{
  "nbformat": 4,
  "nbformat_minor": 0,
  "metadata": {
    "colab": {
      "name": "Untitled0.ipynb",
      "provenance": []
    },
    "kernelspec": {
      "name": "python3",
      "display_name": "Python 3"
    },
    "language_info": {
      "name": "python"
    }
  },
  "cells": [
    {
      "cell_type": "markdown",
      "metadata": {
        "id": "82VGIIlCQocR"
      },
      "source": [
        "# Swap numbers in 4 different ways\n",
        "1.method 1, 2, 4 = **without third variable**\n",
        "\n",
        "2.method 3 = **with third variable**"
      ]
    },
    {
      "cell_type": "code",
      "metadata": {
        "colab": {
          "base_uri": "https://localhost:8080/"
        },
        "id": "-AANG47wQaCR",
        "outputId": "939492a9-68e1-4867-edef-9fdee0ebcb8d"
      },
      "source": [
        "#METHOD 1\n",
        "\n",
        "a=5\n",
        "b=10\n",
        "print(\"Before swap: \\na =\",a,\"\\nb =\",b)\n",
        "\n",
        "a,b=b,a\n",
        "print(\"After swap: \\na =\",a,\"\\nb =\",b)"
      ],
      "execution_count": 16,
      "outputs": [
        {
          "output_type": "stream",
          "name": "stdout",
          "text": [
            "Before swap: \n",
            "a = 5 \n",
            "b = 10\n",
            "After swap: \n",
            "a = 10 \n",
            "b = 5\n"
          ]
        }
      ]
    },
    {
      "cell_type": "code",
      "metadata": {
        "colab": {
          "base_uri": "https://localhost:8080/"
        },
        "id": "x6jDrIgvUGlb",
        "outputId": "4657f482-9d47-4d71-fc52-e7a54390df58"
      },
      "source": [
        "#METHOD 2\n",
        "a= 100\n",
        "b= 200\n",
        "print(\"Before swap: \\na =\",a,\"\\nb =\",b)\n",
        "\n",
        "a= a+b    #300 (100+200)\n",
        "b= a-b    #100 (300-200)\n",
        "a= a-b    #200 (300-100)\n",
        "print(\"After swap: \\na =\",a,\"\\nb =\",b)"
      ],
      "execution_count": 17,
      "outputs": [
        {
          "output_type": "stream",
          "name": "stdout",
          "text": [
            "Before swap: \n",
            "a = 100 \n",
            "b = 200\n",
            "After swap: \n",
            "a = 200 \n",
            "b = 100\n"
          ]
        }
      ]
    },
    {
      "cell_type": "code",
      "metadata": {
        "colab": {
          "base_uri": "https://localhost:8080/"
        },
        "id": "KfIIFUEdT2WL",
        "outputId": "3cec2aeb-c104-4357-f414-296efebefe8e"
      },
      "source": [
        "#METHOD 3\n",
        "\n",
        "a=20\n",
        "b=40\n",
        "print(\"Before swap: \\na =\",a,\"\\nb =\",b)\n",
        "\n",
        "t=a  #t=20\n",
        "a=b  #a=40\n",
        "b=t  #b=20\n",
        "print(\"After swap: \\na =\",a,\"\\nb =\",b)"
      ],
      "execution_count": 18,
      "outputs": [
        {
          "output_type": "stream",
          "name": "stdout",
          "text": [
            "Before swap: \n",
            "a = 20 \n",
            "b = 40\n",
            "After swap: \n",
            "a = 40 \n",
            "b = 20\n"
          ]
        }
      ]
    },
    {
      "cell_type": "code",
      "metadata": {
        "colab": {
          "base_uri": "https://localhost:8080/"
        },
        "id": "fRv9XkVCU0pR",
        "outputId": "7c5243a3-e9e4-4caf-8bce-f218c6d40a04"
      },
      "source": [
        "#METHOD 5\n",
        "a= 88\n",
        "b= 99\n",
        "print(\"Before swap: \\na =\",a,\"\\nb =\",b)\n",
        "\n",
        "a=a^b #59\n",
        "b=b^a #88\n",
        "a=a^b #99\n",
        "print(\"After swap: \\na =\",a,\"\\nb =\",b)"
      ],
      "execution_count": 19,
      "outputs": [
        {
          "output_type": "stream",
          "name": "stdout",
          "text": [
            "Before swap: \n",
            "a = 88 \n",
            "b = 99\n",
            "After swap: \n",
            "a = 99 \n",
            "b = 88\n"
          ]
        }
      ]
    }
  ]
}