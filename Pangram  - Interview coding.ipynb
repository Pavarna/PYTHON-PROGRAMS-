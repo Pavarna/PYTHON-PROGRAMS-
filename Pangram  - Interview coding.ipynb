{
  "nbformat": 4,
  "nbformat_minor": 0,
  "metadata": {
    "colab": {
      "name": "Untitled0.ipynb",
      "provenance": []
    },
    "kernelspec": {
      "name": "python3",
      "display_name": "Python 3"
    },
    "language_info": {
      "name": "python"
    }
  },
  "cells": [
    {
      "cell_type": "markdown",
      "metadata": {
        "id": "j6ogcFZ2X_cz"
      },
      "source": [
        "# *Pangram* \n",
        "A pangram is a string that contains every letter of the alphabet. Given a sentence determine whether it is a pangram in the English alphabet. Return either pangram or not pangram as appropriate."
      ]
    },
    {
      "cell_type": "code",
      "metadata": {
        "colab": {
          "base_uri": "https://localhost:8080/"
        },
        "id": "62OW5h3Db2pZ",
        "outputId": "69d5dd60-21b9-49f2-c1b0-54dd8d1eacf9"
      },
      "source": [
        "def pangram(s):\n",
        "  \n",
        "    pan=s.lower() #converting all the alphabets into lower\n",
        "    pan_list=[]\n",
        "    for i in range(len(pan)):\n",
        "        if(pan[i]!=' '):    #if a string has white space it will not be appended\n",
        "            pan_list.append(pan[i])\n",
        "    pan_list=set(pan_list)      #using set to remove duplicates  \n",
        "    for i in range(len(pan_list)):\n",
        "        if(len(pan_list)==26):  #checking if it contains all the alphabets\n",
        "            return 'Pangram'\n",
        "        else:\n",
        "            return 'Not pangram'\n",
        "\n",
        "sentence = input(\"Enter the sentence :\")\n",
        "print(pangram(sentence))"
      ],
      "execution_count": 2,
      "outputs": [
        {
          "output_type": "stream",
          "name": "stdout",
          "text": [
            "Enter the sentence :We promptly judged antique ivory buckles for the next prize\n",
            "Pangram\n"
          ]
        }
      ]
    },
    {
      "cell_type": "code",
      "metadata": {
        "id": "Ik5DWI7t_AFT",
        "outputId": "997b0710-cd6e-48fd-8cc6-5663c97479e0",
        "colab": {
          "base_uri": "https://localhost:8080/"
        }
      },
      "source": [
        "def pangram(s):\n",
        "  \n",
        "    pan=s.lower() #converting all the alphabets into lower\n",
        "    pan_list=[]\n",
        "    for i in range(len(pan)):\n",
        "        if(pan[i]!=' '):    #if a string has white space it will not be appended\n",
        "            pan_list.append(pan[i])\n",
        "    pan_list=set(pan_list)      #using set to remove duplicates  \n",
        "    for i in range(len(pan_list)):\n",
        "        if(len(pan_list)==26):  #checking if it contains all the alphabets\n",
        "            return 'Pangram'\n",
        "        else:\n",
        "            return 'Not pangram'\n",
        "\n",
        "sentence = input(\"Enter the sentence :\")\n",
        "print(pangram(sentence))"
      ],
      "execution_count": 3,
      "outputs": [
        {
          "output_type": "stream",
          "name": "stdout",
          "text": [
            "Enter the sentence :We promptly judged antique ivory buckles for the prize\n",
            "Not pangram\n"
          ]
        }
      ]
    }
  ]
}