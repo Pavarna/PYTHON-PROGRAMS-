{
  "nbformat": 4,
  "nbformat_minor": 0,
  "metadata": {
    "colab": {
      "name": "Untitled0.ipynb",
      "provenance": []
    },
    "kernelspec": {
      "name": "python3",
      "display_name": "Python 3"
    },
    "language_info": {
      "name": "python"
    }
  },
  "cells": [
    {
      "cell_type": "markdown",
      "metadata": {
        "id": "82VGIIlCQocR"
      },
      "source": [
        "# STUDENT MARKLIST\n",
        "1.Displays Total marks, Percentage, and Grade\n",
        "\n",
        "2.Checks if candidate passed in \"Each subjects\"\n",
        "\n",
        "3.Calculate total number of failed subjects\n"
      ]
    },
    {
      "cell_type": "code",
      "metadata": {
        "colab": {
          "base_uri": "https://localhost:8080/"
        },
        "id": "e1WEINGtWgCI",
        "outputId": "5ed51b5b-cf0b-4668-e324-22b1b59071c7"
      },
      "source": [
        "passmark=[] #to store pass marks\n",
        "failmark=[] #to store fail marks\n",
        "\n",
        "print(\"*** ABC SCHOOL RESULTS ***\")\n",
        "print(\"\\n Subject 1: English\\n Subject 2: Computer Science\\n Subject 3: Physics\\n Subject 4: Chemistry\\n Subject 5: Mathematics\")\n",
        "roll_num= input(\"\\nEnter roll number :\")\n",
        "name=input(\"Enter your name: \")\n",
        "\n",
        "for i in range(1,6): \n",
        "  print(\"Subject \",i)\n",
        "  mark= int(input(\"\\tEnter mark :\"))\n",
        "  if(mark>=35 and mark<=100): #passmark is above or equal to 35\n",
        "    passmark.append(mark)\n",
        "  elif(mark<35 and mark>=0): #failmark is below 35\n",
        "      failmark.append(mark)\n",
        "    \n",
        "if(len(passmark)==5): #if passed in 5 subjects\n",
        "  print(\"\\n Marklist Of \",name)\n",
        "  print(\"*** TOTAL MARKS ***\")\n",
        "  print(sum(passmark))  #total of 5 subjects\n",
        "  print(\"*** PERCENTAGE ***\")\n",
        "  per= (sum(passmark)/500)*100\n",
        "  print(\"{:.2f}\". format(per))  #percentage with 2 precision \n",
        "  print(\"***GRADE***\")\n",
        "  if(per <=100 and per>=85):\n",
        "    print(\"'A' grade \\n Congrats, \",name)\n",
        "  elif(per <=84 and per>=69):\n",
        "    print(\"'B' grade \\n Congrats, \",name)\n",
        "  elif(per <=68 and per>=53):\n",
        "    print(\"'C' grade \\n Congrats, \",name)\n",
        "  elif(per <=52 and per>=37):\n",
        "    print(\"'D' grade \\n Congrats, \",name)\n",
        "  elif(per <=36 ):\n",
        "    print(\"F grade\\n Better Luck Next Time\")\n",
        "elif(len(passmark)<5):  #if passed subjects are less than 5\n",
        "  print(\" *** Minimum pass mark is 35 in each subjects ***\")\n",
        "  print(\"No.of.failed subjects : \",len(failmark))\n",
        "    \n",
        "        \n",
        "\n",
        "\n",
        "\n",
        "\n"
      ],
      "execution_count": 13,
      "outputs": [
        {
          "output_type": "stream",
          "name": "stdout",
          "text": [
            "*** ABC SCHOOL RESULTS ***\n",
            "\n",
            " Subject 1: English\n",
            " Subject 2: Computer Science\n",
            " Subject 3: Physics\n",
            " Subject 4: Chemistry\n",
            " Subject 5: Mathematics\n",
            "\n",
            "Enter roll number :1\n",
            "Enter your name: Pavarna\n",
            "Subject  1\n",
            "\tEnter mark :98\n",
            "Subject  2\n",
            "\tEnter mark :78\n",
            "Subject  3\n",
            "\tEnter mark :85\n",
            "Subject  4\n",
            "\tEnter mark :91\n",
            "Subject  5\n",
            "\tEnter mark :94\n",
            "\n",
            " Marklist Of  Pavarna\n",
            "*** TOTAL MARKS ***\n",
            "446\n",
            "*** PERCENTAGE ***\n",
            "89.20\n",
            "***GRADE***\n",
            "'A' grade \n",
            " Congrats,  Pavarna\n"
          ]
        }
      ]
    },
    {
      "cell_type": "code",
      "metadata": {
        "colab": {
          "base_uri": "https://localhost:8080/"
        },
        "id": "qTRr4jK4w_It",
        "outputId": "e96d9def-1e90-4758-d474-71fa7f35d604"
      },
      "source": [
        "passmark=[] #to store pass marks\n",
        "failmark=[] #to store fail marks\n",
        "\n",
        "print(\"*** ABC SCHOOL RESULTS ***\")\n",
        "print(\"\\n Subject 1: English\\n Subject 2: Computer Science\\n Subject 3: Physics\\n Subject 4: Chemistry\\n Subject 5: Mathematics\")\n",
        "roll_num= input(\"\\nEnter roll number :\")\n",
        "name=input(\"Enter your name: \")\n",
        "\n",
        "for i in range(1,6): \n",
        "  print(\"Subject \",i)\n",
        "  mark= int(input(\"\\tEnter mark :\"))\n",
        "  if(mark>=35 and mark<=100): #passmark is above or equal to 35\n",
        "    passmark.append(mark)\n",
        "  elif(mark<35 and mark>=0): #failmark is below 35\n",
        "      failmark.append(mark)\n",
        "    \n",
        "if(len(passmark)==5): #if passed in 5 subjects\n",
        "  print(\"\\n Marklist Of \",name)\n",
        "  print(\"*** TOTAL MARKS ***\")\n",
        "  print(sum(passmark))  #total of 5 subjects\n",
        "  print(\"*** PERCENTAGE ***\")\n",
        "  per= (sum(passmark)/500)*100\n",
        "  print(\"{:.2f}\". format(per))  #percentage with 2 precision \n",
        "  print(\"***GRADE***\")\n",
        "  if(per <=100 and per>=85):\n",
        "    print(\"'A' grade \\n Congrats, \",name)\n",
        "  elif(per <=84 and per>=69):\n",
        "    print(\"'B' grade \\n Congrats, \",name)\n",
        "  elif(per <=68 and per>=53):\n",
        "    print(\"'C' grade \\n Congrats, \",name)\n",
        "  elif(per <=52 and per>=37):\n",
        "    print(\"'D' grade \\n Congrats, \",name)\n",
        "  elif(per <=36 ):\n",
        "    print(\"F grade\\n Better Luck Next Time\")\n",
        "elif(len(passmark)<5):  #if passed subjects are less than 5\n",
        "  print(\" *** Minimum pass mark is 35 in each subjects ***\")\n",
        "  print(\"No.of.failed subjects : \",len(failmark))\n",
        "    "
      ],
      "execution_count": 14,
      "outputs": [
        {
          "output_type": "stream",
          "name": "stdout",
          "text": [
            "*** ABC SCHOOL RESULTS ***\n",
            "\n",
            " Subject 1: English\n",
            " Subject 2: Computer Science\n",
            " Subject 3: Physics\n",
            " Subject 4: Chemistry\n",
            " Subject 5: Mathematics\n",
            "\n",
            "Enter roll number :1\n",
            "Enter your name: Pavarna\n",
            "Subject  1\n",
            "\tEnter mark :23\n",
            "Subject  2\n",
            "\tEnter mark :56\n",
            "Subject  3\n",
            "\tEnter mark :29\n",
            "Subject  4\n",
            "\tEnter mark :87\n",
            "Subject  5\n",
            "\tEnter mark :32\n",
            " *** Minimum pass mark is 35 in each subjects ***\n",
            "No.of.failed subjects :  3\n"
          ]
        }
      ]
    }
  ]
}